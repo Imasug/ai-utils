{
 "cells": [
  {
   "cell_type": "code",
   "execution_count": 1,
   "id": "f7a59a68-cf75-4380-9803-b75ae436d0b7",
   "metadata": {},
   "outputs": [],
   "source": [
    "import unittest\n",
    "from pathlib import Path\n",
    "import torch\n",
    "from torch import nn\n",
    "from torchvision import datasets\n",
    "from torchvision.transforms import ToTensor\n",
    "from tools.torch.trainers import TorchTrainer\n",
    "from tools.torch.listeners import TensorBoardLossReporter"
   ]
  },
  {
   "cell_type": "code",
   "execution_count": 2,
   "id": "207f6782-fb41-4853-b0ea-1a126d5e27e8",
   "metadata": {},
   "outputs": [],
   "source": [
    "test_dir = Path('test')\n",
    "root = test_dir.joinpath('data')"
   ]
  },
  {
   "cell_type": "code",
   "execution_count": 3,
   "id": "75ad4fe4-df2e-4496-b5a7-6ca69233841e",
   "metadata": {},
   "outputs": [],
   "source": [
    "device = torch.device('cpu')"
   ]
  },
  {
   "cell_type": "code",
   "execution_count": 4,
   "id": "5bbe323a-1841-48fa-bc6e-5b2a3288de73",
   "metadata": {},
   "outputs": [],
   "source": [
    "class NeuralNetwork(nn.Module):\n",
    "    def __init__(self):\n",
    "        super(NeuralNetwork, self).__init__()\n",
    "        self.flatten = nn.Flatten()\n",
    "        self.linear_relu_stack = nn.Sequential(\n",
    "            nn.Linear(28 * 28, 512),\n",
    "            nn.ReLU(),\n",
    "            nn.Linear(512, 512),\n",
    "            nn.ReLU(),\n",
    "            nn.Linear(512, 10)\n",
    "        )\n",
    "\n",
    "    def forward(self, x):\n",
    "        x = self.flatten(x)\n",
    "        logits = self.linear_relu_stack(x)\n",
    "        return logits"
   ]
  },
  {
   "cell_type": "code",
   "execution_count": 5,
   "id": "dd54802f-d788-4a15-a2d4-7b59919a97e2",
   "metadata": {},
   "outputs": [],
   "source": [
    "# Download training data from open datasets.\n",
    "training_data = datasets.FashionMNIST(\n",
    "    root=root,\n",
    "    train=True,\n",
    "    download=True,\n",
    "    transform=ToTensor(),\n",
    ")\n",
    "\n",
    "# Download test data from open datasets.\n",
    "test_data = datasets.FashionMNIST(\n",
    "    root=root,\n",
    "    train=False,\n",
    "    download=True,\n",
    "    transform=ToTensor(),\n",
    ")"
   ]
  },
  {
   "cell_type": "code",
   "execution_count": 6,
   "id": "cf8cf9d6-973d-4836-8454-e1b2f9b46887",
   "metadata": {},
   "outputs": [],
   "source": [
    "model = NeuralNetwork()"
   ]
  },
  {
   "cell_type": "code",
   "execution_count": 7,
   "id": "e428f5f4-58a3-4e1f-afbb-f07fab3503e7",
   "metadata": {},
   "outputs": [],
   "source": [
    "criterion = nn.CrossEntropyLoss()"
   ]
  },
  {
   "cell_type": "code",
   "execution_count": 8,
   "id": "4e3d38b1-4fb2-4f13-8a7a-1f899d0bd327",
   "metadata": {},
   "outputs": [],
   "source": [
    "optimizer = torch.optim.SGD(model.parameters(), lr=1e-3)"
   ]
  },
  {
   "cell_type": "code",
   "execution_count": 32,
   "id": "780c5195-a5db-4bc2-814c-31faef0a0284",
   "metadata": {},
   "outputs": [],
   "source": [
    "name = 'mnist-16'\n",
    "checkpoint_dir = test_dir.joinpath('checkpoint').joinpath(name)\n",
    "log_dir = test_dir.joinpath('log').joinpath(name)"
   ]
  },
  {
   "cell_type": "code",
   "execution_count": 33,
   "id": "dd40f0ac-d9a5-4be3-bb79-f47fd9dfd7c5",
   "metadata": {},
   "outputs": [],
   "source": [
    "listener = TensorBoardLossReporter(log_dir)"
   ]
  },
  {
   "cell_type": "code",
   "execution_count": 34,
   "id": "70d18fed-40fa-4fbe-9e6c-c39d08721b83",
   "metadata": {},
   "outputs": [],
   "source": [
    "trainer = TorchTrainer(\n",
    "    epochs=40,\n",
    "    device=device,\n",
    "    batch_size=16,\n",
    "    train_data=training_data,\n",
    "    val_data=test_data,\n",
    "    model=model,\n",
    "    criterion=criterion,\n",
    "    optimizer=optimizer,\n",
    "    listener=listener,\n",
    "    batch_multi=1,\n",
    "    checkpoint_dir=checkpoint_dir,\n",
    ")"
   ]
  },
  {
   "cell_type": "code",
   "execution_count": null,
   "id": "c3c77e3e-28c6-42d8-b309-d301e34801db",
   "metadata": {},
   "outputs": [
    {
     "name": "stderr",
     "output_type": "stream",
     "text": [
      "epoch: 11, step: 1712, loss: 0.381:  46%|███████████████████████████████████████████████████████████████████████▌                                                                                     | 1709/3750 [00:19<00:22, 91.88it/s]"
     ]
    }
   ],
   "source": [
    "trainer.start()"
   ]
  }
 ],
 "metadata": {
  "kernelspec": {
   "display_name": "Python 3 (ipykernel)",
   "language": "python",
   "name": "python3"
  },
  "language_info": {
   "codemirror_mode": {
    "name": "ipython",
    "version": 3
   },
   "file_extension": ".py",
   "mimetype": "text/x-python",
   "name": "python",
   "nbconvert_exporter": "python",
   "pygments_lexer": "ipython3",
   "version": "3.7.11"
  }
 },
 "nbformat": 4,
 "nbformat_minor": 5
}
